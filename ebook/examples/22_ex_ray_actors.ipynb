{
 "cells": [
  {
   "cell_type": "markdown",
   "id": "d75c8ac9-b947-4dc9-9eb8-3bcd2c9662eb",
   "metadata": {},
   "source": [
    "### Example X: Ray ML Workers\n",
    "\n",
    "This is a simple example of Ray actors demonstrating that actors are stateful service centers.\n",
    "\n",
    "We start with a simple program that runs the ResNet50 network to classify 1000 images from ImageNet, one for each class. \n",
    "The data is from https://github.com/EliSchwartz/imagenet-sample-images"
   ]
  },
  {
   "cell_type": "code",
   "execution_count": null,
   "id": "e702cc95-9372-4282-b817-d8523a1876fa",
   "metadata": {
    "tags": []
   },
   "outputs": [],
   "source": [
    "import time\n",
    "import os\n",
    "\n",
    "from resnet50 import ResNet50\n",
    "\n",
    "# an object to run the ResNet50 model\n",
    "srn50 = ResNet50()\n",
    "\n",
    "# JPEG image files to classify\n",
    "directory = '../data/imagenet1000'\n",
    "\n",
    "start_time = time.time()  # Get the current time\n",
    "\n",
    "# iterate over the sample images\n",
    "for filename in os.listdir(directory):\n",
    "    if filename.endswith(\".JPEG\"):\n",
    "        try:\n",
    "            file_path = os.path.join(directory, filename)\n",
    "            \n",
    "            # classify the image and return top predicted classes\n",
    "            preds = srn50.classify_image(file_path)\n",
    "            print(f\"Filename {filename}: predictions {preds}\")\n",
    "        except:\n",
    "            print(f\"Failed to classify. Probably an image error {filename}.\")\n",
    "            pass\n",
    "            \n",
    "end_time = time.time()  # Get the current time again\n",
    "\n",
    "execution_time = end_time - start_time\n",
    "print(\"Execution time: \", execution_time, \" seconds\")"
   ]
  },
  {
   "cell_type": "markdown",
   "id": "493744b2-ef84-4c26-8044-6e5ca42de4f0",
   "metadata": {},
   "source": [
    "The file [resnet50.py](resnet50.py) shows how simple it is to run computer vision, deep learning models. It loads a pre-trained model  and the parameters needed to normalize input images in the constructor.  The function `classify_image` normalizes the image to a tensor, evaluates the tensor on the model, and then extracts the class names for the top predictions.\n",
    "\n",
    "This is a serial implementation in that one object runs in a single thread. It could be parallelized in many ways.  We could use `joblib` to create multiple processes. In this case, we are going to use `ray` to build a set of distributed actors. The concept is to instantiate a series of actors each of which has loaded the model. This loading is a one-time cost on instantiation. We can then call remote functions on the actors to classify images. The actors stay around and act as service centers for parallel work.\n",
    "\n",
    "The Ray implementation in [rayresnet50.py](rayresnet50.py) is the exact same code. It differs only in that it has the `@ray.remote` decorator to indicate that the object will be run as a Ray actor. Most of the complexity lies in the driver code that must launch the remote functions on the actors and complete them asynchronously."
   ]
  },
  {
   "cell_type": "code",
   "execution_count": null,
   "id": "9e47f527-8a52-49d3-a3f9-503d7ffa98e8",
   "metadata": {
    "tags": []
   },
   "outputs": [
    {
     "name": "stdout",
     "output_type": "stream",
     "text": [
      "Filename n04479046_trench_coat.JPEG: predictions ['trench coat', 'suit', 'velvet']\n",
      "Filename n03776460_mobile_home.JPEG: predictions ['mobile home', 'sunscreen', 'face powder']\n",
      "Filename n04296562_stage.JPEG: predictions ['microphone', 'stage', 'brassiere']\n",
      "Filename n02492660_howler_monkey.JPEG: predictions ['howler monkey', 'spider monkey', 'colobus']\n",
      "Filename n07875152_potpie.JPEG: predictions ['potpie', 'dough', 'frying pan']\n",
      "Filename n02128757_snow_leopard.JPEG: predictions ['snow leopard', 'leopard', 'cheetah']\n",
      "Filename n04589890_window_screen.JPEG: predictions ['window screen', 'swing', 'pole']\n",
      "Filename n03976657_pole.JPEG: predictions ['pole', 'traffic light', 'street sign']\n",
      "Filename n02396427_wild_boar.JPEG: predictions ['wild boar', 'hog', 'brown bear']\n",
      "Filename n04485082_tripod.JPEG: predictions ['tripod', 'crutch', 'swing']\n",
      "Filename n03733131_maypole.JPEG: predictions ['maypole', 'sunglasses', 'sunglass']\n",
      "Filename n04310018_steam_locomotive.JPEG: predictions ['steam locomotive', 'passenger car', 'electric locomotive']\n",
      "Filename n04111531_rotisserie.JPEG: predictions ['rotisserie', 'refrigerator', 'microwave']\n",
      "Filename n01984695_spiny_lobster.JPEG: predictions ['spiny lobster', 'crayfish', 'American lobster']\n",
      "Filename n04229816_ski_mask.JPEG: predictions ['ski mask', 'wool', 'mitten']\n",
      "Filename n07714990_broccoli.JPEG: predictions ['broccoli', 'cauliflower', 'meat loaf']\n",
      "Filename n02319095_sea_urchin.JPEG: predictions ['sea urchin', 'sea anemone', 'coral reef']\n",
      "Filename n02104365_schipperke.JPEG: predictions ['schipperke', 'groenendael', 'bath towel']\n",
      "Filename n02174001_rhinoceros_beetle.JPEG: predictions ['rhinoceros beetle', 'ground beetle', 'dung beetle']\n",
      "Filename n02086910_papillon.JPEG: predictions ['papillon', 'Chihuahua', 'Japanese spaniel']\n"
     ]
    }
   ],
   "source": [
    "from rayresnet50 import RayResNet50\n",
    "import ray\n",
    "import time\n",
    "import os\n",
    "\n",
    "num_actors=4\n",
    "\n",
    "# script to drive parallel program\n",
    "ray.init(num_cpus=num_actors, ignore_reinit_error=True)\n",
    "\n",
    "# create the actors and store actor handles\n",
    "actors = []\n",
    "for i in range(num_actors):\n",
    "    actors.append(RayResNet50.remote())\n",
    "\n",
    "current_actor = 0\n",
    "\n",
    "directory = '../data/imagenet1000'\n",
    "files = os.listdir(directory)\n",
    "roids = [None] * len(files)\n",
    "\n",
    "start_time = time.time()  # Get the current time\n",
    "\n",
    "for i in range(len(files)):\n",
    "    if files[i].endswith(\".JPEG\"):\n",
    "        file_path = os.path.join(directory, files[i])\n",
    "        roids[i] = (actors[i%num_actors].classify_image.remote(file_path))\n",
    "\n",
    "for i in range(len(files)):\n",
    "    try:\n",
    "        if files[i].endswith(\".JPEG\"):\n",
    "            preds = ray.get(roids[i])\n",
    "            print(f\"Filename {files[i]}: predictions {preds}\")\n",
    "    except:\n",
    "        pass\n",
    "\n",
    "end_time = time.time()  # Get the current time again\n",
    "\n",
    "execution_time = end_time - start_time\n",
    "print(\"Execution time: \", execution_time, \" seconds\")\n"
   ]
  },
  {
   "cell_type": "code",
   "execution_count": null,
   "id": "9531cab6-b5d5-446a-8909-9ec9760596d0",
   "metadata": {},
   "outputs": [],
   "source": []
  }
 ],
 "metadata": {
  "kernelspec": {
   "display_name": "Python 3 (ipykernel)",
   "language": "python",
   "name": "python3"
  },
  "language_info": {
   "codemirror_mode": {
    "name": "ipython",
    "version": 3
   },
   "file_extension": ".py",
   "mimetype": "text/x-python",
   "name": "python",
   "nbconvert_exporter": "python",
   "pygments_lexer": "ipython3",
   "version": "3.12.2"
  }
 },
 "nbformat": 4,
 "nbformat_minor": 5
}
